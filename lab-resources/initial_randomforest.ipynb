{
 "cells": [
  {
   "cell_type": "code",
   "execution_count": 3,
   "metadata": {},
   "outputs": [],
   "source": [
    "import os\n",
    "import warnings\n",
    "import sys\n",
    "import mlflow\n",
    "import mlflow.sklearn\n",
    "\n",
    "import pandas as pd\n",
    "import numpy as np\n",
    "from sklearn.metrics import accuracy_score, f1_score, precision_score, recall_score\n",
    "from sklearn.model_selection import train_test_split, RandomizedSearchCV\n",
    "from sklearn.ensemble import RandomForestClassifier\n",
    "\n",
    "import logging\n"
   ]
  },
  {
   "cell_type": "code",
   "execution_count": 17,
   "metadata": {},
   "outputs": [],
   "source": [
    "\n",
    "\n",
    "# Wine Quality Sample\n",
    "def train_rf(max_depth=10, n_estimators=100):\n",
    "\n",
    "    logging.basicConfig(level=logging.WARN)\n",
    "    logger = logging.getLogger(__name__)\n",
    "\n",
    "    def eval_metrics(actual, pred):\n",
    "        average_param = \"weighted\"\n",
    "        accuracy = accuracy_score(actual, pred)\n",
    "        precision = precision_score(actual, pred, average= average_param)\n",
    "        recall = recall_score(actual, pred, average= average_param)\n",
    "        f1_metrics = f1_score(actual, pred, average= average_param)\n",
    "        return accuracy, precision, recall, f1_metrics\n",
    "\n",
    "\n",
    "    warnings.filterwarnings(\"ignore\")\n",
    "    np.random.seed(40)\n",
    "\n",
    "    # Read the wine-quality csv file from the URL\n",
    "    csv_url =\\\n",
    "        'http://archive.ics.uci.edu/ml/machine-learning-databases/wine-quality/winequality-red.csv'\n",
    "    try:\n",
    "        data = pd.read_csv(csv_url, sep=';')\n",
    "    except Exception as e:\n",
    "        logger.exception(\n",
    "            \"Unable to download training & test CSV, check your internet connection. Error: %s\", e)\n",
    "\n",
    "    # Split the data into training and test sets. (0.75, 0.25) split.\n",
    "    train, test = train_test_split(data)\n",
    "\n",
    "    # The predicted column is \"quality\" which is a scalar from [3, 9]\n",
    "    train_x = train.drop([\"quality\"], axis=1)\n",
    "    test_x = test.drop([\"quality\"], axis=1)\n",
    "    train_y = train[[\"quality\"]]\n",
    "    test_y = test[[\"quality\"]]\n",
    "\n",
    "    with mlflow.start_run():\n",
    "        # Execute RandomForest\n",
    "        lr = RandomForestClassifier(max_depth=10, n_estimators=100, random_state=42)\n",
    "        lr.fit(train_x, train_y)\n",
    "\n",
    "        # Evaluate Metrics\n",
    "        y_pred = lr.predict(test_x)\n",
    "        (accuracy, precision, recall, f1_metrics) = eval_metrics(test_y, y_pred)\n",
    "        \n",
    "        # Print out metrics\n",
    "        print(\"RandomForest model (n_estimators =%f, max_depth=%f):\" % (n_estimators, max_depth))\n",
    "        print(\"  Accuracy: %s\" % accuracy)\n",
    "        print(\"  Precision: %s\" % precision)\n",
    "        print(\"  Recall: %s\" % recall)\n",
    "        print(\"  F1-score: %s\" % f1_metrics)\n",
    "\n",
    "        # param recorded with mlflow:\n",
    "        mlflow.log_param(\"n_estimators\", n_estimators)\n",
    "        mlflow.log_param(\"max_depth\", max_depth)\n",
    "        mlflow.log_metric(\"Accuracy\", accuracy)\n",
    "        mlflow.log_metric(\"Precision\", precision)\n",
    "        mlflow.log_metric(\"Recall\", recall)\n",
    "        mlflow.log_metric(\"F1-Score\", f1_metrics)\n",
    "        # mlflow.log_metric(\"Average Parameter\", average_param)\n",
    "\n",
    "        mlflow.sklearn.log_model(lr, \"model\")\n",
    "\n",
    "        # Write scores to a file\n",
    "      #  with open(\"metrics.txt\", 'w') as outfile:\n",
    "       #     outfile.write(\"  RMSE: %s\" % rmse)\n",
    "        #    outfile.write(\"  MAE: %s\" % mae)\n",
    "         #   outfile.write(\"  R2: %s\" % r2)"
   ]
  },
  {
   "cell_type": "code",
   "execution_count": 18,
   "metadata": {},
   "outputs": [
    {
     "name": "stdout",
     "output_type": "stream",
     "text": [
      "RandomForest model (n_estimators =100.000000, max_depth=10.000000):\n",
      "  Accuracy: 0.66\n",
      "  Precision: 0.6223964216671088\n",
      "  Recall: 0.66\n",
      "  F1-score: 0.6337299848306085\n",
      "RandomForest model (n_estimators =100.000000, max_depth=10.000000):\n",
      "  Accuracy: 0.66\n",
      "  Precision: 0.6223964216671088\n",
      "  Recall: 0.66\n",
      "  F1-score: 0.6337299848306085\n",
      "RandomForest model (n_estimators =50.000000, max_depth=15.000000):\n",
      "  Accuracy: 0.66\n",
      "  Precision: 0.6223964216671088\n",
      "  Recall: 0.66\n",
      "  F1-score: 0.6337299848306085\n"
     ]
    }
   ],
   "source": [
    "# Start the training\n",
    "train_rf(10, 100)\n",
    "train_rf()\n",
    "train_rf(15,50)"
   ]
  }
 ],
 "metadata": {
  "kernelspec": {
   "display_name": "mlops_testing",
   "language": "python",
   "name": "python3"
  },
  "language_info": {
   "codemirror_mode": {
    "name": "ipython",
    "version": 3
   },
   "file_extension": ".py",
   "mimetype": "text/x-python",
   "name": "python",
   "nbconvert_exporter": "python",
   "pygments_lexer": "ipython3",
   "version": "3.11.4"
  },
  "orig_nbformat": 4
 },
 "nbformat": 4,
 "nbformat_minor": 2
}
